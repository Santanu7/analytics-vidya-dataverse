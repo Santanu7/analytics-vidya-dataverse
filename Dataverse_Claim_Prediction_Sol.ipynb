{
  "cells": [
    {
      "cell_type": "markdown",
      "metadata": {
        "id": "hPSbP6rEzJnG"
      },
      "source": [
        "### Imports"
      ]
    },
    {
      "cell_type": "code",
      "source": [
        "!pip install category-encoders"
      ],
      "metadata": {
        "colab": {
          "base_uri": "https://localhost:8080/"
        },
        "id": "6-xaNr1W0SOG",
        "outputId": "e7f2aa1e-e772-44cb-aeab-76fd9ca29e34"
      },
      "execution_count": null,
      "outputs": [
        {
          "output_type": "stream",
          "name": "stdout",
          "text": [
            "Looking in indexes: https://pypi.org/simple, https://us-python.pkg.dev/colab-wheels/public/simple/\n",
            "Collecting category-encoders\n",
            "  Downloading category_encoders-2.5.1.post0-py2.py3-none-any.whl (72 kB)\n",
            "\u001b[K     |████████████████████████████████| 72 kB 821 kB/s \n",
            "\u001b[?25hRequirement already satisfied: patsy>=0.5.1 in /usr/local/lib/python3.7/dist-packages (from category-encoders) (0.5.3)\n",
            "Requirement already satisfied: pandas>=1.0.5 in /usr/local/lib/python3.7/dist-packages (from category-encoders) (1.3.5)\n",
            "Requirement already satisfied: statsmodels>=0.9.0 in /usr/local/lib/python3.7/dist-packages (from category-encoders) (0.12.2)\n",
            "Requirement already satisfied: scikit-learn>=0.20.0 in /usr/local/lib/python3.7/dist-packages (from category-encoders) (1.0.2)\n",
            "Requirement already satisfied: numpy>=1.14.0 in /usr/local/lib/python3.7/dist-packages (from category-encoders) (1.21.6)\n",
            "Requirement already satisfied: scipy>=1.0.0 in /usr/local/lib/python3.7/dist-packages (from category-encoders) (1.7.3)\n",
            "Requirement already satisfied: python-dateutil>=2.7.3 in /usr/local/lib/python3.7/dist-packages (from pandas>=1.0.5->category-encoders) (2.8.2)\n",
            "Requirement already satisfied: pytz>=2017.3 in /usr/local/lib/python3.7/dist-packages (from pandas>=1.0.5->category-encoders) (2022.6)\n",
            "Requirement already satisfied: six in /usr/local/lib/python3.7/dist-packages (from patsy>=0.5.1->category-encoders) (1.15.0)\n",
            "Requirement already satisfied: joblib>=0.11 in /usr/local/lib/python3.7/dist-packages (from scikit-learn>=0.20.0->category-encoders) (1.2.0)\n",
            "Requirement already satisfied: threadpoolctl>=2.0.0 in /usr/local/lib/python3.7/dist-packages (from scikit-learn>=0.20.0->category-encoders) (3.1.0)\n",
            "Installing collected packages: category-encoders\n",
            "Successfully installed category-encoders-2.5.1.post0\n"
          ]
        }
      ]
    },
    {
      "cell_type": "markdown",
      "source": [
        "## Download File"
      ],
      "metadata": {
        "id": "wdBt7UPzNtma"
      }
    },
    {
      "cell_type": "code",
      "source": [
        "!wget https://datahack-prod.s3.amazonaws.com/sample_submission/sample_submission_KvRh9Sx.csv\n",
        "!wget https://datahack-prod.s3.amazonaws.com/train_file/train_qWM28Yl.csv\n",
        "!wget https://datahack-prod.s3.amazonaws.com/test_file/test_zo1G9sv.csv"
      ],
      "metadata": {
        "colab": {
          "base_uri": "https://localhost:8080/"
        },
        "id": "eFW-dEeEa2N-",
        "outputId": "6d7dd171-122f-4aab-e3c6-6d1040e4db86"
      },
      "execution_count": null,
      "outputs": [
        {
          "output_type": "stream",
          "name": "stdout",
          "text": [
            "--2022-11-13 13:03:24--  https://datahack-prod.s3.amazonaws.com/sample_submission/sample_submission_KvRh9Sx.csv\n",
            "Resolving datahack-prod.s3.amazonaws.com (datahack-prod.s3.amazonaws.com)... 52.219.160.79\n",
            "Connecting to datahack-prod.s3.amazonaws.com (datahack-prod.s3.amazonaws.com)|52.219.160.79|:443... connected.\n",
            "HTTP request sent, awaiting response... 200 OK\n",
            "Length: 429713 (420K) [text/csv]\n",
            "Saving to: ‘sample_submission_KvRh9Sx.csv’\n",
            "\n",
            "sample_submission_K 100%[===================>] 419.64K   506KB/s    in 0.8s    \n",
            "\n",
            "2022-11-13 13:03:25 (506 KB/s) - ‘sample_submission_KvRh9Sx.csv’ saved [429713/429713]\n",
            "\n",
            "--2022-11-13 13:03:25--  https://datahack-prod.s3.amazonaws.com/train_file/train_qWM28Yl.csv\n",
            "Resolving datahack-prod.s3.amazonaws.com (datahack-prod.s3.amazonaws.com)... 52.219.156.163\n",
            "Connecting to datahack-prod.s3.amazonaws.com (datahack-prod.s3.amazonaws.com)|52.219.156.163|:443... connected.\n",
            "HTTP request sent, awaiting response... 200 OK\n",
            "Length: 13820236 (13M) [text/csv]\n",
            "Saving to: ‘train_qWM28Yl.csv’\n",
            "\n",
            "train_qWM28Yl.csv   100%[===================>]  13.18M  5.69MB/s    in 2.3s    \n",
            "\n",
            "2022-11-13 13:03:29 (5.69 MB/s) - ‘train_qWM28Yl.csv’ saved [13820236/13820236]\n",
            "\n",
            "--2022-11-13 13:03:29--  https://datahack-prod.s3.amazonaws.com/test_file/test_zo1G9sv.csv\n",
            "Resolving datahack-prod.s3.amazonaws.com (datahack-prod.s3.amazonaws.com)... 52.219.156.163\n",
            "Connecting to datahack-prod.s3.amazonaws.com (datahack-prod.s3.amazonaws.com)|52.219.156.163|:443... connected.\n",
            "HTTP request sent, awaiting response... 200 OK\n",
            "Length: 9134692 (8.7M) [text/csv]\n",
            "Saving to: ‘test_zo1G9sv.csv’\n",
            "\n",
            "test_zo1G9sv.csv    100%[===================>]   8.71M  4.55MB/s    in 1.9s    \n",
            "\n",
            "2022-11-13 13:03:31 (4.55 MB/s) - ‘test_zo1G9sv.csv’ saved [9134692/9134692]\n",
            "\n"
          ]
        }
      ]
    },
    {
      "cell_type": "code",
      "execution_count": null,
      "metadata": {
        "id": "Dd_gfvQPzJnO"
      },
      "outputs": [],
      "source": [
        "import pandas as pd\n",
        "import numpy as np\n",
        "from sklearn.model_selection import train_test_split,cross_val_predict\n",
        "from sklearn.preprocessing import StandardScaler\n",
        "from sklearn.metrics import accuracy_score,f1_score,precision_score,recall_score,confusion_matrix\n",
        "from xgboost import plot_importance,XGBClassifier\n",
        "import category_encoders as ce\n",
        "import matplotlib.pyplot as plt\n",
        "\n",
        "pd.set_option('display.max_columns', None)"
      ]
    },
    {
      "cell_type": "code",
      "source": [
        "def performance(true,pred):\n",
        "  print('f1 score ',f1_score(true,pred))\n",
        "  print('Precision ',precision_score(true,pred))\n",
        "  print('Recall ',recall_score(true,pred))\n",
        "  print('Accuracy ',accuracy_score(true,pred))\n",
        "  print(confusion_matrix(true,pred))"
      ],
      "metadata": {
        "id": "ZtvMYeUxSGp-"
      },
      "execution_count": null,
      "outputs": []
    },
    {
      "cell_type": "markdown",
      "metadata": {
        "id": "34i0xKcfzJnX"
      },
      "source": [
        "### Load Data"
      ]
    },
    {
      "cell_type": "code",
      "execution_count": null,
      "metadata": {
        "id": "zGytyUE0zJnY"
      },
      "outputs": [],
      "source": [
        "train = pd.read_csv('train_qWM28Yl.csv')\n",
        "test = pd.read_csv('test_zo1G9sv.csv')\n",
        "sub = pd.read_csv('sample_submission_KvRh9Sx.csv')"
      ]
    },
    {
      "cell_type": "code",
      "source": [
        "train.shape,test.shape"
      ],
      "metadata": {
        "colab": {
          "base_uri": "https://localhost:8080/"
        },
        "id": "SECbuLNc6oNI",
        "outputId": "3e47a114-9ec4-4b0d-d4bd-eb5cbadd339b"
      },
      "execution_count": null,
      "outputs": [
        {
          "output_type": "execute_result",
          "data": {
            "text/plain": [
              "((58592, 44), (39063, 43))"
            ]
          },
          "metadata": {},
          "execution_count": 4
        }
      ]
    },
    {
      "cell_type": "code",
      "source": [
        "train.isna().sum().sum(),test.isna().sum().sum()"
      ],
      "metadata": {
        "colab": {
          "base_uri": "https://localhost:8080/"
        },
        "id": "DVcCbzD5QqNV",
        "outputId": "46581e1b-b326-44ba-8f46-ce8f44038a44"
      },
      "execution_count": null,
      "outputs": [
        {
          "output_type": "execute_result",
          "data": {
            "text/plain": [
              "(0, 0)"
            ]
          },
          "metadata": {},
          "execution_count": 5
        }
      ]
    },
    {
      "cell_type": "markdown",
      "source": [
        "### Replace Yes/No with 1/0"
      ],
      "metadata": {
        "id": "kfC-gCBiN1iq"
      }
    },
    {
      "cell_type": "code",
      "source": [
        "for col in test.columns:\n",
        "  if col.startswith('is'):\n",
        "    train[col].replace({'Yes':1,'No':0},inplace=True)\n",
        "    test[col].replace({'Yes':1,'No':0},inplace=True)"
      ],
      "metadata": {
        "id": "bs4_v0aSP3aZ"
      },
      "execution_count": null,
      "outputs": []
    },
    {
      "cell_type": "code",
      "source": [
        "sum(train['is_claim'] == 1)/train.shape[0]"
      ],
      "metadata": {
        "colab": {
          "base_uri": "https://localhost:8080/"
        },
        "id": "cXVnKGyNsbFn",
        "outputId": "28dad7f3-fcc3-45a1-b8d8-dfc5a14a9afd"
      },
      "execution_count": null,
      "outputs": [
        {
          "output_type": "execute_result",
          "data": {
            "text/plain": [
              "0.06396777717094485"
            ]
          },
          "metadata": {},
          "execution_count": 7
        }
      ]
    },
    {
      "cell_type": "code",
      "source": [
        "train.shape,train['policy_id'].nunique(),train['policy_tenure'].nunique()"
      ],
      "metadata": {
        "colab": {
          "base_uri": "https://localhost:8080/"
        },
        "id": "WgxPKZfjtq35",
        "outputId": "5e46d841-b4b5-4e47-b30f-50ce06c6361e"
      },
      "execution_count": null,
      "outputs": [
        {
          "output_type": "execute_result",
          "data": {
            "text/plain": [
              "((58592, 44), 58592, 58592)"
            ]
          },
          "metadata": {},
          "execution_count": 9
        }
      ]
    },
    {
      "cell_type": "code",
      "source": [
        "test.shape,test['policy_tenure'].nunique()"
      ],
      "metadata": {
        "colab": {
          "base_uri": "https://localhost:8080/"
        },
        "id": "6uxAq3_vGSNU",
        "outputId": "b1369aff-f769-4560-b27c-671969bb2504"
      },
      "execution_count": null,
      "outputs": [
        {
          "output_type": "execute_result",
          "data": {
            "text/plain": [
              "((39063, 43), 39063)"
            ]
          },
          "metadata": {},
          "execution_count": 10
        }
      ]
    },
    {
      "cell_type": "markdown",
      "source": [
        "## Feature Engineering"
      ],
      "metadata": {
        "id": "AYC3FUmYRPCC"
      }
    },
    {
      "cell_type": "code",
      "source": [
        "train[['Nm','rpm_torque']] = train['max_torque'].str.split('@',expand=True)\n",
        "test[['Nm','rpm_torque']] = test['max_torque'].str.split('@',expand=True)\n",
        "\n",
        "train['Nm'] = train['Nm'].apply(lambda x: float(x[:-2]))\n",
        "test['Nm'] = test['Nm'].apply(lambda x: float(x[:-2]))\n",
        "\n",
        "train['rpm_torque'] = train['rpm_torque'].apply(lambda x: float(x[:-3]))\n",
        "test['rpm_torque'] = test['rpm_torque'].apply(lambda x: float(x[:-3]))\n",
        "\n",
        "train[['bhp','rpm_power']] = train['max_power'].str.split('@',expand=True)\n",
        "test[['bhp','rpm_power']] = test['max_power'].str.split('@',expand=True)\n",
        "\n",
        "train['bhp'] = train['bhp'].apply(lambda x: float(x[:-3]))\n",
        "test['bhp'] = test['bhp'].apply(lambda x: float(x[:-3]))\n",
        "\n",
        "train['rpm_power'] = train['rpm_power'].apply(lambda x: float(x[:-3]))\n",
        "test['rpm_power'] = test['rpm_power'].apply(lambda x: float(x[:-3]))"
      ],
      "metadata": {
        "id": "297Kye9vnsRj"
      },
      "execution_count": null,
      "outputs": []
    },
    {
      "cell_type": "code",
      "source": [
        "for i in [train,test]:\n",
        "  i['weight_per_area'] = i['gross_weight']/(i['length']*i['width']*i['height'])\n",
        "  i['Nm_rpm'] = i['rpm_torque']/i['Nm']\n",
        "  i['bhp_rpm'] = i['rpm_power']/i['bhp']\n",
        "  i['age'] = (i['age_of_car']/i['age_of_policyholder'])"
      ],
      "metadata": {
        "id": "bw48U0-oL67y"
      },
      "execution_count": null,
      "outputs": []
    },
    {
      "cell_type": "markdown",
      "source": [
        "### Preparation for Modelling"
      ],
      "metadata": {
        "id": "m0L1ckWtZvv_"
      }
    },
    {
      "cell_type": "code",
      "source": [
        "num_col = ['policy_tenure','age',#'age_of_car', 'age_of_policyholder',\n",
        "        'population_density', 'make',   'airbags','is_esc', 'is_adjustable_steering', 'is_tpms', 'is_parking_sensors',\n",
        "       'is_parking_camera',\n",
        "        'displacement', 'cylinder',\n",
        "          'turning_radius',\n",
        "       'is_front_fog_lights',\n",
        "       'is_rear_window_wiper', 'is_rear_window_washer',\n",
        "       'is_rear_window_defogger', 'is_brake_assist', 'is_power_door_locks',\n",
        "       'is_central_locking', 'is_power_steering',\n",
        "       'is_driver_seat_height_adjustable', 'is_day_night_rear_view_mirror',\n",
        "       'is_ecw', 'is_speed_alert',  'weight_per_area','Nm_rpm','bhp_rpm']\n",
        "\n",
        "cat_col = ['area_cluster','segment', 'model',\n",
        "       'fuel_type','engine_type',\n",
        "       'rear_brakes_type','transmission_type','steering_type','gear_box','ncap_rating']"
      ],
      "metadata": {
        "id": "P9Q27Vzjfzh_"
      },
      "execution_count": null,
      "outputs": []
    },
    {
      "cell_type": "code",
      "execution_count": null,
      "metadata": {
        "id": "_dpq1YQezJng"
      },
      "outputs": [],
      "source": [
        "X=train[num_col + cat_col]\n",
        "y=train['is_claim']"
      ]
    },
    {
      "cell_type": "code",
      "execution_count": null,
      "metadata": {
        "id": "wy2KZvy8zJnh"
      },
      "outputs": [],
      "source": [
        "X_train, X_test, y_train, y_test = train_test_split(X, y, test_size=.25, stratify=y)\n"
      ]
    },
    {
      "cell_type": "code",
      "source": [
        "ce_target = ce.TargetEncoder(cols=cat_col)\n",
        "X_train_encoded = ce_target.fit_transform(X_train, y_train)\n"
      ],
      "metadata": {
        "id": "O6Sdv9FvHOQ3",
        "colab": {
          "base_uri": "https://localhost:8080/"
        },
        "outputId": "9aa66d71-8a81-4cd5-e717-974dbc3dffba"
      },
      "execution_count": null,
      "outputs": [
        {
          "output_type": "stream",
          "name": "stderr",
          "text": [
            "/usr/local/lib/python3.7/dist-packages/category_encoders/target_encoder.py:124: FutureWarning: Default parameter min_samples_leaf will change in version 2.6.See https://github.com/scikit-learn-contrib/category_encoders/issues/327\n",
            "  category=FutureWarning)\n",
            "/usr/local/lib/python3.7/dist-packages/category_encoders/target_encoder.py:129: FutureWarning: Default parameter smoothing will change in version 2.6.See https://github.com/scikit-learn-contrib/category_encoders/issues/327\n",
            "  category=FutureWarning)\n"
          ]
        }
      ]
    },
    {
      "cell_type": "code",
      "source": [
        "std = StandardScaler()\n",
        "X_train_encoded = std.fit_transform(X_train_encoded)\n",
        "X_train_encoded = pd.DataFrame(X_train_encoded,columns = X_train.columns)"
      ],
      "metadata": {
        "id": "O0D6CnQKSQHK"
      },
      "execution_count": null,
      "outputs": []
    },
    {
      "cell_type": "markdown",
      "source": [
        "### XGBoost"
      ],
      "metadata": {
        "id": "vYg0wbZCVTEc"
      }
    },
    {
      "cell_type": "code",
      "source": [
        "scale_pos_weight = sum(y == 0)/sum(y == 1) \n",
        "print('Scale Pos Weight : ', scale_pos_weight)"
      ],
      "metadata": {
        "colab": {
          "base_uri": "https://localhost:8080/"
        },
        "id": "5GTYPcpZdw_d",
        "outputId": "719fa038-c636-466d-bce5-3246da2a382a"
      },
      "execution_count": null,
      "outputs": [
        {
          "output_type": "stream",
          "name": "stdout",
          "text": [
            "Scale Pos Weight :  14.632870864461045\n"
          ]
        }
      ]
    },
    {
      "cell_type": "code",
      "source": [
        "model = XGBClassifier(gamma=5, learning_rate=0.01, n_estimators=500, random_state=42,max_depth=3,\n",
        "                                    scale_pos_weight=round(scale_pos_weight))\n",
        "model.fit(X_train_encoded, y_train)\n",
        "\n",
        "plot_importance(model)"
      ],
      "metadata": {
        "colab": {
          "base_uri": "https://localhost:8080/",
          "height": 312
        },
        "id": "_v3kxcczHdS3",
        "outputId": "f93f96e7-0f73-490c-e272-fa257e43026a"
      },
      "execution_count": null,
      "outputs": [
        {
          "output_type": "execute_result",
          "data": {
            "text/plain": [
              "<matplotlib.axes._subplots.AxesSubplot at 0x7f2632793610>"
            ]
          },
          "metadata": {},
          "execution_count": 104
        },
        {
          "output_type": "display_data",
          "data": {
            "text/plain": [
              "<Figure size 432x288 with 1 Axes>"
            ],
            "image/png": "[encoded data removed]"
          },
          "metadata": {
            "needs_background": "light"
          }
        }
      ]
    },
    {
      "cell_type": "code",
      "source": [
        "y_pred_train = model.predict(X_train_encoded)\n",
        "y_pred_train_prob = model.predict_proba(X_train_encoded)[:,1]\n",
        "print('Train ')\n",
        "performance(y_train,y_pred_train_prob>=0.6)\n",
        "print('Test ')\n",
        "X_test_encoded = ce_target.transform(X_test)\n",
        "X_test_encoded = std.transform(X_test_encoded)\n",
        "X_test_encoded = pd.DataFrame(X_test_encoded,columns = X_test.columns)\n",
        "y_pred_test = model.predict(X_test_encoded)\n",
        "y_pred_test_prob = model.predict_proba(X_test_encoded)[:,1]\n",
        "performance(y_test,y_pred_test_prob >= 0.6)"
      ],
      "metadata": {
        "colab": {
          "base_uri": "https://localhost:8080/"
        },
        "id": "o-TsNUtil3KT",
        "outputId": "8af893f0-a5d2-4f8a-9523-46451258d064"
      },
      "execution_count": null,
      "outputs": [
        {
          "output_type": "stream",
          "name": "stdout",
          "text": [
            "Train \n",
            "f1 score  0.18274950429610046\n",
            "Precision  0.11901431184762724\n",
            "Recall  0.3934542867307008\n",
            "Accuracy  0.7748953213180412\n",
            "[[32946  8187]\n",
            " [ 1705  1106]]\n",
            "Test \n",
            "f1 score  0.16751391914790612\n",
            "Precision  0.10832811521603006\n",
            "Recall  0.36926360725720386\n",
            "Accuracy  0.7652239213544512\n",
            "[[10863  2848]\n",
            " [  591   346]]\n"
          ]
        }
      ]
    },
    {
      "cell_type": "code",
      "source": [
        "test_encoded = ce_target.transform(test[num_col+cat_col])\n",
        "test_encoded = std.transform(test_encoded)\n",
        "test_encoded = pd.DataFrame(test_encoded,columns=X.columns)\n",
        "test['prob'] = model.predict_proba(test_encoded)[:,1]\n",
        "test['is_claim'] = np.where(test['prob'] > 0.6,1,0)\n",
        "test[['policy_id','is_claim']].to_csv('sub_3.csv',index=0)"
      ],
      "metadata": {
        "id": "_FQldm-wVAGg"
      },
      "execution_count": null,
      "outputs": []
    },
    {
      "cell_type": "markdown",
      "source": [
        "## Train on Complete Data for Submission"
      ],
      "metadata": {
        "id": "GLggHihnT_Uu"
      }
    },
    {
      "cell_type": "code",
      "source": [
        "ce_all = ce.TargetEncoder(cols=cat_col)\n",
        "X_encoded = ce_all.fit_transform(X, y)\n",
        "std_all = StandardScaler()\n",
        "X_encoded = std_all.fit_transform(X_encoded)\n",
        "X_encoded = pd.DataFrame(X_encoded,columns=X.columns)"
      ],
      "metadata": {
        "colab": {
          "base_uri": "https://localhost:8080/"
        },
        "id": "56t0gJd8i5hm",
        "outputId": "8f68f558-18e4-4d61-9a72-2d952e084a61"
      },
      "execution_count": null,
      "outputs": [
        {
          "output_type": "stream",
          "name": "stderr",
          "text": [
            "/usr/local/lib/python3.7/dist-packages/category_encoders/target_encoder.py:124: FutureWarning: Default parameter min_samples_leaf will change in version 2.6.See https://github.com/scikit-learn-contrib/category_encoders/issues/327\n",
            "  category=FutureWarning)\n",
            "/usr/local/lib/python3.7/dist-packages/category_encoders/target_encoder.py:129: FutureWarning: Default parameter smoothing will change in version 2.6.See https://github.com/scikit-learn-contrib/category_encoders/issues/327\n",
            "  category=FutureWarning)\n"
          ]
        }
      ]
    },
    {
      "cell_type": "code",
      "source": [
        "model_all = XGBClassifier(gamma=5, learning_rate=0.01, n_estimators=500, random_state=42,max_depth=3,\n",
        "                                    scale_pos_weight=round(scale_pos_weight))\n",
        "model_all.fit(X_encoded, y)\n",
        "y_pred = model_all.predict(X_encoded)\n",
        "print('Train ')\n",
        "performance(y,y_pred)\n",
        "plot_importance(model_all)"
      ],
      "metadata": {
        "colab": {
          "base_uri": "https://localhost:8080/",
          "height": 434
        },
        "id": "B5p4FFqPghe3",
        "outputId": "46cc2aa2-3f5c-411d-9898-3c74f55b6ae3"
      },
      "execution_count": null,
      "outputs": [
        {
          "output_type": "stream",
          "name": "stdout",
          "text": [
            "Train \n",
            "f1 score  0.16710072073163348\n",
            "Precision  0.09424745507959281\n",
            "Recall  0.7361259338313767\n",
            "Accuracy  0.530584380120153\n",
            "[[28329 26515]\n",
            " [  989  2759]]\n"
          ]
        },
        {
          "output_type": "execute_result",
          "data": {
            "text/plain": [
              "<matplotlib.axes._subplots.AxesSubplot at 0x7f26326fc850>"
            ]
          },
          "metadata": {},
          "execution_count": 106
        },
        {
          "output_type": "display_data",
          "data": {
            "text/plain": [
              "<Figure size 432x288 with 1 Axes>"
            ],
            "image/png": "[encoded data removed]"
          },
          "metadata": {
            "needs_background": "light"
          }
        }
      ]
    },
    {
      "cell_type": "markdown",
      "source": [
        "### Check for Optimal Threshold"
      ],
      "metadata": {
        "id": "VGJYHwm4OTPd"
      }
    },
    {
      "cell_type": "code",
      "source": [
        "y_pred_prob = model.predict_proba(X_encoded)[:,1]\n",
        "for i in [j/100 for j in range(59,70)]:\n",
        "  print(i,'-'*10)\n",
        "  performance(y,y_pred_prob > i)"
      ],
      "metadata": {
        "colab": {
          "base_uri": "https://localhost:8080/"
        },
        "id": "QUgC1ls5lLF3",
        "outputId": "bc0ce58a-2c1d-4276-ab8b-781b8c5cad17"
      },
      "execution_count": null,
      "outputs": [
        {
          "output_type": "stream",
          "name": "stdout",
          "text": [
            "0.59 ----------\n",
            "f1 score  0.18100724772347146\n",
            "Precision  0.11787010891488503\n",
            "Recall  0.38980789754535755\n",
            "Accuracy  0.7743548607318406\n",
            "[[43910 10934]\n",
            " [ 2287  1461]]\n",
            "0.6 ----------\n",
            "f1 score  0.17894663605371183\n",
            "Precision  0.12103529411764706\n",
            "Recall  0.3431163287086446\n",
            "Accuracy  0.7985902512288368\n",
            "[[45505  9339]\n",
            " [ 2462  1286]]\n",
            "0.61 ----------\n",
            "f1 score  0.17469348505489224\n",
            "Precision  0.12484251517581033\n",
            "Recall  0.29082177161152617\n",
            "Accuracy  0.8242251501911524\n",
            "[[47203  7641]\n",
            " [ 2658  1090]]\n",
            "0.62 ----------\n",
            "f1 score  0.16934893928310166\n",
            "Precision  0.1288258208124652\n",
            "Recall  0.24706510138740662\n",
            "Accuracy  0.8449617695248498\n",
            "[[48582  6262]\n",
            " [ 2822   926]]\n",
            "0.63 ----------\n",
            "f1 score  0.16249593760155998\n",
            "Precision  0.13678643078606603\n",
            "Recall  0.2001067235859125\n",
            "Accuracy  0.8680536592026216\n",
            "[[50111  4733]\n",
            " [ 2998   750]]\n",
            "0.64 ----------\n",
            "f1 score  0.14686988285678299\n",
            "Precision  0.13910761154855644\n",
            "Recall  0.1555496264674493\n",
            "Accuracy  0.8844040141998908\n",
            "[[51236  3608]\n",
            " [ 3165   583]]\n",
            "0.65 ----------\n",
            "f1 score  0.13257575757575757\n",
            "Precision  0.14602053915275995\n",
            "Recall  0.12139807897545357\n",
            "Accuracy  0.8983820316766794\n",
            "[[52183  2661]\n",
            " [ 3293   455]]\n",
            "0.66 ----------\n",
            "f1 score  0.11943680207153261\n",
            "Precision  0.15178938708350473\n",
            "Recall  0.09845250800426894\n",
            "Accuracy  0.9071374931731294\n",
            "[[52782  2062]\n",
            " [ 3379   369]]\n",
            "0.67 ----------\n",
            "f1 score  0.10796645702306078\n",
            "Precision  0.15637651821862347\n",
            "Recall  0.08244397011739595\n",
            "Accuracy  0.9128549972692518\n",
            "[[53177  1667]\n",
            " [ 3439   309]]\n",
            "0.68 ----------\n",
            "f1 score  0.09306706857573474\n",
            "Precision  0.15833333333333333\n",
            "Recall  0.06590181430096051\n",
            "Accuracy  0.9178386127799016\n",
            "[[53531  1313]\n",
            " [ 3501   247]]\n",
            "0.69 ----------\n",
            "f1 score  0.08313725490196078\n",
            "Precision  0.15680473372781065\n",
            "Recall  0.05656350053361793\n",
            "Accuracy  0.920193883123976\n",
            "[[53704  1140]\n",
            " [ 3536   212]]\n"
          ]
        }
      ]
    },
    {
      "cell_type": "markdown",
      "source": [
        "### Submission"
      ],
      "metadata": {
        "id": "0ydRWJSKWx57"
      }
    },
    {
      "cell_type": "code",
      "source": [
        "test_encoded = ce_all.transform(test[num_col+cat_col])\n",
        "test_encoded = std_all.transform(test_encoded)\n",
        "test_encoded = pd.DataFrame(test_encoded,columns=X.columns)\n",
        "test['prob'] = model_all.predict_proba(test_encoded)[:,1]\n",
        "test['is_claim'] = np.where(test['prob'] >= 0.6,1,0)\n",
        "test[['policy_id','is_claim']].to_csv('sub_3_all.csv',index=0)"
      ],
      "metadata": {
        "id": "mV38HjqJJQwh"
      },
      "execution_count": null,
      "outputs": []
    }
  ],
  "metadata": {
    "kernelspec": {
      "display_name": "Python 3",
      "language": "python",
      "name": "python3"
    },
    "language_info": {
      "codemirror_mode": {
        "name": "ipython",
        "version": 3
      },
      "file_extension": ".py",
      "mimetype": "text/x-python",
      "name": "python",
      "nbconvert_exporter": "python",
      "pygments_lexer": "ipython3",
      "version": "3.6.10"
    },
    "colab": {
      "provenance": []
    }
  },
  "nbformat": 4,
  "nbformat_minor": 0
}